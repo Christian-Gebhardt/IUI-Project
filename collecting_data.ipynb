{
 "cells": [
  {
   "cell_type": "code",
   "execution_count": 47,
   "id": "1ad95977-4c24-49bb-be7a-97d1f455414e",
   "metadata": {},
   "outputs": [],
   "source": [
    "import pandas as pd\n",
    "import numpy as np\n",
    "from apiclient.discovery import build\n",
    "from pymongo import MongoClient\n",
    "import os\n",
    "from dotenv import load_dotenv\n",
    "import string"
   ]
  },
  {
   "cell_type": "markdown",
   "id": "eff32a7d-a8a6-4587-8ef2-41ddd5e741f5",
   "metadata": {},
   "source": [
    "# Setup DB and Youtube Data API"
   ]
  },
  {
   "cell_type": "code",
   "execution_count": 12,
   "id": "81920119-f335-494d-8355-56352977b2c7",
   "metadata": {},
   "outputs": [],
   "source": [
    "# connect to mongo cloud db and select collection\n",
    "\n",
    "load_dotenv()\n",
    "\n",
    "uri = os.getenv('MONGO_URI')\n",
    "\n",
    "mongo_client = MongoClient(uri)\n",
    "\n",
    "db = mongo_client['youtube-db']"
   ]
  },
  {
   "cell_type": "code",
   "execution_count": 13,
   "id": "c9f3ff3f-cf4d-4d96-af69-fa5a2fe07ada",
   "metadata": {},
   "outputs": [],
   "source": [
    "train_col = db['training_col']\n",
    "test_col = db['test_col']"
   ]
  },
  {
   "cell_type": "code",
   "execution_count": 14,
   "id": "01e695dc-a173-4a9c-a7a1-3d25ea06b04d",
   "metadata": {},
   "outputs": [],
   "source": [
    "# setting up the api client\n",
    "key = os.getenv('GOOGLE_API_KEY')\n",
    "\n",
    "client = build('youtube', 'v3', developerKey=key)"
   ]
  },
  {
   "cell_type": "markdown",
   "id": "4aafa50f-2042-41c9-b712-45e2a00629f2",
   "metadata": {},
   "source": [
    "# Collecting Data"
   ]
  },
  {
   "cell_type": "code",
   "execution_count": 15,
   "id": "cebbd966-c1a0-4e53-a84d-c2a1c981166e",
   "metadata": {},
   "outputs": [],
   "source": [
    "# categories to 0 (non educational) or 1 (educational)\n",
    "def to_binary_category(c_id):\n",
    "    if c_id in [27, 28, 25, 35]: # educational ids\n",
    "        return 1\n",
    "    else:\n",
    "        return 0\n",
    "\n",
    "# cleaning text from punctuation\n",
    "def remove_punctuation(text):\n",
    "    return \"\".join([c.lower() for c in text if c not in string.punctuation])"
   ]
  },
  {
   "cell_type": "code",
   "execution_count": 6,
   "id": "efdb8824-6e92-46a8-93f3-6ceeec5087d9",
   "metadata": {},
   "outputs": [],
   "source": [
    "queries = [\"TED-Ed - Lessons Worth Sharing\", \"SmarterEveryDay - To teach you something new every day!\", \"Vsauce\", \"AsapSCIENCE\", \n",
    "           \"National Geographic | Science, Exploration And Adventure\", \"CrashCourse | Educational Videos\", \"Numberphile\", \"Computerphile\",\n",
    "          \"In a nutshell - Kurzegesagt\", \"Ted Talks\", \"Veritasium\", \"Vox - Explain the news\", \"Khan academy english\", \"The Backyard Scientist\",\n",
    "          \"Big think - Get smarter, faster, for success in the knowledge economy\", \"MIT OpenCourseWare\", \"Science Channel | Science Videos\",\n",
    "          \"minuteearth\", \"3Blue1Brown\", \"Washington Post\", \"The Organic Chemistry Tutor\", \"tecmath | Math Videos\", \"BBC Earth Lab\", \"Stanford University\",\n",
    "          \"Astrum | YouTube\", \"Philosophy Tube | Philosophical YouTube Channel\", \"BrainCraft\", \"OUlearn\", \"BSI Academy\"]"
   ]
  },
  {
   "cell_type": "code",
   "execution_count": null,
   "id": "631ee84c-c4a3-469d-8e8a-2d8f416a0093",
   "metadata": {},
   "outputs": [],
   "source": [
    "# fetch and insert data for multiple queries (educational)\n",
    "\n",
    "for q in queries:\n",
    "    print(q)\n",
    "    # hit a search query\n",
    "    search = client.search().list(q=q, part='snippet', type='video', maxResults=50).execute()\n",
    "    \n",
    "    # filtering out the videoIds from the search query\n",
    "    videoIds = [v['id']['videoId'] for v in search['items']]\n",
    "    \n",
    "    # fetching video content data for all videoIds\n",
    "    data = client.videos().list(id=videoIds, part=\"snippet\").execute()\n",
    "    cleaned_data = [{\"video_id\": e['id'], 'title': remove_punctuation(e['snippet']['title']), 'description': remove_punctuation(e['snippet']['description']), 'category_id':  \n",
    "                     to_binary_category(int(e['snippet']['categoryId']))} for e in data['items']]\n",
    "    \n",
    "    train_col.insert_many(cleaned_data)"
   ]
  },
  {
   "cell_type": "code",
   "execution_count": 10,
   "id": "bd83eb6e-a229-4e0b-8b01-b63c0d9e1aa9",
   "metadata": {},
   "outputs": [
    {
     "data": {
      "text/plain": [
       "435"
      ]
     },
     "execution_count": 10,
     "metadata": {},
     "output_type": "execute_result"
    }
   ],
   "source": [
    "data = list(train_col.find({\"category_id\": 1}))"
   ]
  },
  {
   "cell_type": "code",
   "execution_count": 16,
   "id": "d6b089b0-c396-4dff-abc0-343937ccc18a",
   "metadata": {},
   "outputs": [],
   "source": [
    "df = pd.read_csv(\"./data/US_youtube_trending_data.csv\")"
   ]
  },
  {
   "cell_type": "code",
   "execution_count": 25,
   "id": "fae9dc48-c04f-460c-94ff-cd1d8601b598",
   "metadata": {},
   "outputs": [
    {
     "data": {
      "text/plain": [
       "{'video_id': '3C66w5Z0ixs',\n",
       " 'title': 'i asked her to be my girlfriend',\n",
       " 'description': 'subscribe to brawadis ▶ httpbitlysubscribetobrawadis\\r\\rfollow me on social\\r▶ twitter httpstwittercombrawadis\\r▶ instagram httpswwwinstagramcombrawadis\\r▶ snapchat brawadis\\r\\rhi i’m brandon awadis and i like to make dope vlogs pranks reactions challenges and basketball videos don’t forget to subscribe and come be a part of the brawadsquad',\n",
       " 'category_id': 0}"
      ]
     },
     "execution_count": 25,
     "metadata": {},
     "output_type": "execute_result"
    }
   ],
   "source": [
    "data = []\n",
    "for index, row in df.iterrows():\n",
    "    if pd.isna(row[\"description\"]): \n",
    "        row[\"description\"] = \"\"\n",
    "    data.append({\n",
    "        \"video_id\": row[\"video_id\"],\n",
    "        \"title\": remove_punctuation(row[\"title\"]),\n",
    "        \"description\": remove_punctuation(row[\"description\"]),\n",
    "        \"category_id\": to_binary_category(row[\"categoryId\"])\n",
    "    })\n",
    "\n",
    "data[0]"
   ]
  },
  {
   "cell_type": "code",
   "execution_count": 26,
   "id": "0ad19388-ab80-4351-8c83-514138e81eb7",
   "metadata": {},
   "outputs": [
    {
     "data": {
      "text/plain": [
       "131190"
      ]
     },
     "execution_count": 26,
     "metadata": {},
     "output_type": "execute_result"
    }
   ],
   "source": [
    "len(data)"
   ]
  },
  {
   "cell_type": "code",
   "execution_count": 57,
   "id": "31436224-0034-4a3b-9804-ba0016234683",
   "metadata": {},
   "outputs": [
    {
     "data": {
      "text/plain": [
       "<pymongo.results.InsertManyResult at 0x7fce2c7e4980>"
      ]
     },
     "execution_count": 57,
     "metadata": {},
     "output_type": "execute_result"
    }
   ],
   "source": [
    "train_col.insert_many(data[45000:55000]) # index 0 to 20.000 and 25.000 and 55.000 is train data"
   ]
  },
  {
   "cell_type": "code",
   "execution_count": 48,
   "id": "49607ad5-fb2a-4654-8b1e-c5ee078f6b59",
   "metadata": {},
   "outputs": [],
   "source": [
    "d = list(train_col.find({\"category_id\": 1}))"
   ]
  },
  {
   "cell_type": "code",
   "execution_count": 49,
   "id": "5091c012-dd51-4b7d-bb3c-8a38808731e2",
   "metadata": {},
   "outputs": [
    {
     "data": {
      "text/plain": [
       "2772"
      ]
     },
     "execution_count": 49,
     "metadata": {},
     "output_type": "execute_result"
    }
   ],
   "source": [
    "len(d)"
   ]
  },
  {
   "cell_type": "code",
   "execution_count": 50,
   "id": "0ea423db-2dab-4367-98a4-21aac1bc71f3",
   "metadata": {},
   "outputs": [
    {
     "data": {
      "text/plain": [
       "17778"
      ]
     },
     "execution_count": 50,
     "metadata": {},
     "output_type": "execute_result"
    }
   ],
   "source": [
    "d = list(train_col.find({\"category_id\": 0}))\n",
    "len(d)"
   ]
  },
  {
   "cell_type": "code",
   "execution_count": 58,
   "id": "7c698878-f719-49a5-8818-99a09bac0a0e",
   "metadata": {},
   "outputs": [
    {
     "data": {
      "text/plain": [
       "<pymongo.results.InsertManyResult at 0x7fce2c64b0c0>"
      ]
     },
     "execution_count": 58,
     "metadata": {},
     "output_type": "execute_result"
    }
   ],
   "source": [
    "test_col.insert_many(data[55000:60000]) # index 20.000 to 25.000 and 55.000 to 60.000 is test data"
   ]
  },
  {
   "cell_type": "code",
   "execution_count": 54,
   "id": "ad63618f-9118-4cc9-a594-3f0fa13fd304",
   "metadata": {},
   "outputs": [
    {
     "data": {
      "text/plain": [
       "140"
      ]
     },
     "execution_count": 54,
     "metadata": {},
     "output_type": "execute_result"
    }
   ],
   "source": [
    "d = list(test_col.find({\"category_id\": 1}))\n",
    "len(d)"
   ]
  },
  {
   "cell_type": "code",
   "execution_count": null,
   "id": "a9e49a8e-abae-429d-a8a4-5095a42bf588",
   "metadata": {},
   "outputs": [],
   "source": []
  }
 ],
 "metadata": {
  "kernelspec": {
   "display_name": "Python 3 (ipykernel)",
   "language": "python",
   "name": "python3"
  },
  "language_info": {
   "codemirror_mode": {
    "name": "ipython",
    "version": 3
   },
   "file_extension": ".py",
   "mimetype": "text/x-python",
   "name": "python",
   "nbconvert_exporter": "python",
   "pygments_lexer": "ipython3",
   "version": "3.9.7"
  }
 },
 "nbformat": 4,
 "nbformat_minor": 5
}
