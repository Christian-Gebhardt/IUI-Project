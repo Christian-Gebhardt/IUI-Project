{
 "cells": [
  {
   "cell_type": "code",
   "execution_count": 2,
   "id": "901172d2-d06e-4a6c-abb4-053696821b95",
   "metadata": {},
   "outputs": [],
   "source": [
    "import pandas as pd\n",
    "import numpy as np\n",
    "from apiclient.discovery import build\n",
    "from pymongo import MongoClient\n",
    "import os\n",
    "from dotenv import load_dotenv"
   ]
  },
  {
   "cell_type": "code",
   "execution_count": 18,
   "id": "78b24f25-d973-45a3-947b-ac926136e41d",
   "metadata": {},
   "outputs": [],
   "source": [
    "# testing the youtube data api"
   ]
  },
  {
   "cell_type": "code",
   "execution_count": 3,
   "id": "3f3d5c13-59cb-4f95-aa94-30fd8ede8109",
   "metadata": {},
   "outputs": [],
   "source": [
    "# my public api key, not sure if you can use it, else set up one for yourself\n",
    "\n",
    "load_dotenv()\n",
    "\n",
    "key = os.getenv('GOOGLE_API_KEY')"
   ]
  },
  {
   "cell_type": "code",
   "execution_count": 4,
   "id": "62435c49-c656-4156-be5c-fb8b48db368b",
   "metadata": {},
   "outputs": [],
   "source": [
    "# setting up the api client\n",
    "\n",
    "client = build('youtube', 'v3', developerKey=key)\n",
    "\n",
    "query = \"Veritasium\""
   ]
  },
  {
   "cell_type": "code",
   "execution_count": 21,
   "id": "e55ed0f2-9924-432c-a6c2-830d9a5707ba",
   "metadata": {},
   "outputs": [],
   "source": [
    "# hit a search query\n",
    "\n",
    "search = client.search().list(q=query, part='snippet', type='video', maxResults=50).execute()"
   ]
  },
  {
   "cell_type": "code",
   "execution_count": 22,
   "id": "ce40570a-c5cb-4e30-96ab-4a2629a94afc",
   "metadata": {},
   "outputs": [],
   "source": [
    "# filtering out the videoIds from the search query\n",
    "\n",
    "videoIds = [v['id']['videoId'] for v in search['items']]"
   ]
  },
  {
   "cell_type": "code",
   "execution_count": 10,
   "id": "a3047ae2-0ca0-4669-9317-dc0031595fea",
   "metadata": {},
   "outputs": [
    {
     "data": {
      "text/plain": [
       "{'publishedAt': '2022-05-12T14:52:13Z',\n",
       " 'channelId': 'UCHnyfMqiRRG1u-2MsSQLbXA',\n",
       " 'title': \"A Picture of the Milky Way's Supermassive Black Hole\",\n",
       " 'description': \"This is an image of the supermassive black hole, Sagittarius A*, at the center of our Milky Way galaxy.\\nVisit https://www.kiwico.com/veritasium30 to get 30% off your first month of any crate!\\n\\n▀▀▀\\nImage of Sgr A* from EHT collaboration\\nEvent Horizon Telescope collaboration: https://ve42.co/EHT\\n\\nAnimations from The Relativistic Astrophysics group, Institute for Theoretical Physics,  Goethe-Universität Frankfurt. Massive thanks to Prof. Luciano Rezzolla, Dr Christian Fromm and Dr Alejandro Cruz-Osorio.\\n\\nA huge thanks to Prof. Peter Tuthill and Dr Manisha Caleb for feedback on earlier versions of this video and helping explain VLBI.\\n\\nGreat video by Thatcher Chamberlin about VLBI here – https://youtu.be/Y8rAHTvpJbk\\n\\nAnimations and simulations with English text:\\nL. R. Weih & L. Rezzolla (Goethe University Frankfurt)\\nhttps://youtu.be/jvftAadCFRI\\n\\nVideo of stars going around Sgr A* from European Southern Observatory\\nhttps://www.eso.org/public/videos/eso1825e/\\n\\nVideo zooming into the center of our galaxy from European Southern Observatory\\nhttps://www.youtube.com/watch?v=dXAU0gzsPOw\\n\\nVideo of observation of M87 courtesy of:\\nC. M. Fromm, Y. Mizuno & L. Rezzolla (Goethe University Frankfurt)\\nhttps://youtu.be/meOKmzhTcIY\\n\\nVideo of observation of SgrA* courtesy of\\nC. M. Fromm, Y. Mizuno & L. Rezzolla (Goethe University Frankfurt)\\nZ. Younsi (University College London)\\nhttps://youtu.be/VnsZj9RvhFU\\n\\nVideo of telescopes in the array 2017:\\nC. M. Fromm & L. Rezzolla (Goethe University Frankfurt)\\nhttps://youtu.be/Ame7fzBuFnk\\n\\nAnimations and simulations (no text):\\nL. R. Weih & L. Rezzolla (Goethe University Frankfurt)\\nhttps://youtu.be/XmvpKFSvB7A\\n\\n\\n▀▀▀\\nSpecial thanks to Patreon supporters: Inconcision, Kelly Snook, TTST, Ross McCawley, Balkrishna Heroor, Chris LaClair, Avi Yashchin, John H. Austin, Jr., OnlineBookClub.org, Dmitry Kuzmichev, Matthew Gonzalez, Eric Sexton, john kiehl, Anton Ragin, Diffbot, Micah Mangione, MJP, Gnare, Dave Kircher, Burt Humburg, Blake Byers, Dumky, Evgeny Skvortsov, Meekay, Bill Linder, Paul Peijzel, Josh Hibschman, Mac Malkawi, Michael Schneider, jim buckmaster, Juan Benet, Ruslan Khroma, Robert Blum, Richard Sundvall, Lee Redden, Vincent, Stephen Wilcox, Marinus Kuivenhoven, Clayton Greenwell, Michael Krugman, Cy 'kkm' K'Nelson, Sam Lutfi, Ron Neal\\n\\n▀▀▀\\nWritten by Derek Muller\\nAnimation by Ivy Tello, Mike Radjabov, Maria Raykova\\nFilmed by Petr Lebedev\",\n",
       " 'thumbnails': {'default': {'url': 'https://i.ytimg.com/vi/Q1bSDnuIPbo/default.jpg',\n",
       "   'width': 120,\n",
       "   'height': 90},\n",
       "  'medium': {'url': 'https://i.ytimg.com/vi/Q1bSDnuIPbo/mqdefault.jpg',\n",
       "   'width': 320,\n",
       "   'height': 180},\n",
       "  'high': {'url': 'https://i.ytimg.com/vi/Q1bSDnuIPbo/hqdefault.jpg',\n",
       "   'width': 480,\n",
       "   'height': 360}},\n",
       " 'channelTitle': 'Veritasium',\n",
       " 'tags': ['veritasium', 'science', 'physics'],\n",
       " 'categoryId': '27',\n",
       " 'liveBroadcastContent': 'none',\n",
       " 'defaultLanguage': 'en',\n",
       " 'localized': {'title': \"A Picture of the Milky Way's Supermassive Black Hole\",\n",
       "  'description': \"This is an image of the supermassive black hole, Sagittarius A*, at the center of our Milky Way galaxy.\\nVisit https://www.kiwico.com/veritasium30 to get 30% off your first month of any crate!\\n\\n▀▀▀\\nImage of Sgr A* from EHT collaboration\\nEvent Horizon Telescope collaboration: https://ve42.co/EHT\\n\\nAnimations from The Relativistic Astrophysics group, Institute for Theoretical Physics,  Goethe-Universität Frankfurt. Massive thanks to Prof. Luciano Rezzolla, Dr Christian Fromm and Dr Alejandro Cruz-Osorio.\\n\\nA huge thanks to Prof. Peter Tuthill and Dr Manisha Caleb for feedback on earlier versions of this video and helping explain VLBI.\\n\\nGreat video by Thatcher Chamberlin about VLBI here – https://youtu.be/Y8rAHTvpJbk\\n\\nAnimations and simulations with English text:\\nL. R. Weih & L. Rezzolla (Goethe University Frankfurt)\\nhttps://youtu.be/jvftAadCFRI\\n\\nVideo of stars going around Sgr A* from European Southern Observatory\\nhttps://www.eso.org/public/videos/eso1825e/\\n\\nVideo zooming into the center of our galaxy from European Southern Observatory\\nhttps://www.youtube.com/watch?v=dXAU0gzsPOw\\n\\nVideo of observation of M87 courtesy of:\\nC. M. Fromm, Y. Mizuno & L. Rezzolla (Goethe University Frankfurt)\\nhttps://youtu.be/meOKmzhTcIY\\n\\nVideo of observation of SgrA* courtesy of\\nC. M. Fromm, Y. Mizuno & L. Rezzolla (Goethe University Frankfurt)\\nZ. Younsi (University College London)\\nhttps://youtu.be/VnsZj9RvhFU\\n\\nVideo of telescopes in the array 2017:\\nC. M. Fromm & L. Rezzolla (Goethe University Frankfurt)\\nhttps://youtu.be/Ame7fzBuFnk\\n\\nAnimations and simulations (no text):\\nL. R. Weih & L. Rezzolla (Goethe University Frankfurt)\\nhttps://youtu.be/XmvpKFSvB7A\\n\\n\\n▀▀▀\\nSpecial thanks to Patreon supporters: Inconcision, Kelly Snook, TTST, Ross McCawley, Balkrishna Heroor, Chris LaClair, Avi Yashchin, John H. Austin, Jr., OnlineBookClub.org, Dmitry Kuzmichev, Matthew Gonzalez, Eric Sexton, john kiehl, Anton Ragin, Diffbot, Micah Mangione, MJP, Gnare, Dave Kircher, Burt Humburg, Blake Byers, Dumky, Evgeny Skvortsov, Meekay, Bill Linder, Paul Peijzel, Josh Hibschman, Mac Malkawi, Michael Schneider, jim buckmaster, Juan Benet, Ruslan Khroma, Robert Blum, Richard Sundvall, Lee Redden, Vincent, Stephen Wilcox, Marinus Kuivenhoven, Clayton Greenwell, Michael Krugman, Cy 'kkm' K'Nelson, Sam Lutfi, Ron Neal\\n\\n▀▀▀\\nWritten by Derek Muller\\nAnimation by Ivy Tello, Mike Radjabov, Maria Raykova\\nFilmed by Petr Lebedev\"},\n",
       " 'defaultAudioLanguage': 'en'}"
      ]
     },
     "execution_count": 10,
     "metadata": {},
     "output_type": "execute_result"
    }
   ],
   "source": [
    "# fetching video content data for all videoIds\n",
    "\n",
    "data = client.videos().list(id=videoIds, part=\"snippet\").execute()\n",
    "\n",
    "data['items'][0]['snippet']"
   ]
  },
  {
   "cell_type": "code",
   "execution_count": 11,
   "id": "106bd9c9-1686-46d5-9016-6bcdbaf6f2dd",
   "metadata": {},
   "outputs": [
    {
     "name": "stdout",
     "output_type": "stream",
     "text": [
      "27 A Picture of the Milky Way's Supermassive Black Hole\n",
      "27 How Electricity Actually Works\n",
      "27 Future Computers Will Be Radically Different\n",
      "27 The Man Who Accidentally Killed The Most People In History\n",
      "27 Celsius Made His Thermometer Upside Down\n",
      "27 Is Success Luck or Hard Work?\n",
      "27 Why Life Seems to Speed Up as We Age\n",
      "27 The Most Powerful Computers You've Never Heard Of\n",
      "27 The Absurdity of Detecting Gravitational Waves\n",
      "27 The Surprising Secret of Synchronization\n",
      "27 The Big Misconception About Electricity\n",
      "27 Is Glass a Liquid?\n",
      "27 This Particle Breaks Time Symmetry\n",
      "27 This equation will change how you see the world (the logistic map)\n",
      "27 How Horses Save Humans From Snake Bites\n",
      "27 Why Gravity is NOT a Force\n",
      "27 Parallel Worlds Probably Exist. Here’s Why\n",
      "27 How Imaginary Numbers Were Invented\n",
      "27 Most People Don't Know How Bikes Work\n",
      "27 Why Einstein Thought Nuclear Weapons Impossible\n",
      "27 Math's Fundamental Flaw\n",
      "27 How Trees Bend the Laws of Physics\n",
      "27 How Were the Pyramids Built?\n",
      "27 This is why we can't have nice things\n",
      "27 What Actually Expands In An Expanding Universe?\n",
      "24 These Pools Help Support Half The People On Earth\n",
      "27 Veritasium: A Story of YouTube Propaganda\n",
      "27 The Biggest Myth In Education\n",
      "27 How An Infinite Hotel Ran Out Of Room\n",
      "27 Half the universe was missing... until now\n",
      "27 The Simplest Math Problem No One Can Solve - Collatz Conjecture\n",
      "27 3 Perplexing Physics Problems\n",
      "27 How Much Information?\n",
      "27 The Universe is Hostile to Computers\n",
      "27 The Inverse Leidenfrost Effect\n",
      "27 I Waterproofed Myself With Aerogel!\n",
      "27 The Illusion of Truth\n",
      "27 The Best and Worst Prediction in Science\n",
      "28 How Wrong Is VERITASIUM? A Lamp and Power Line Story\n",
      "27 Why Boredom is Good For You\n",
      "27 The Illusion Only Some People Can See\n",
      "27 Spinning Black Holes\n",
      "27 I Asked Bill Gates What's The Next Crisis?\n",
      "27 How They Caught The Golden State Killer\n",
      "27 Is This What Quantum Mechanics Looks Like?\n",
      "27 I Rented A Helicopter To Settle A Physics Debate\n",
      "27 The Discovery That Transformed Pi\n",
      "27 Why No One Has Measured The Speed Of Light\n",
      "27 Misconceptions About the Universe\n",
      "27 How We’re Fooled By Statistics\n"
     ]
    }
   ],
   "source": [
    "# comparing video category ids with actual titles\n",
    "\n",
    "for e in data['items']:\n",
    "    print(e['snippet']['categoryId'], e['snippet']['title'])"
   ]
  },
  {
   "cell_type": "code",
   "execution_count": 12,
   "id": "2f66c4fb-c500-419f-9810-d30fca213ac9",
   "metadata": {},
   "outputs": [
    {
     "name": "stdout",
     "output_type": "stream",
     "text": [
      "ID: 1, Title: Film & Animation\n",
      "ID: 2, Title: Autos & Vehicles\n",
      "ID: 10, Title: Music\n",
      "ID: 15, Title: Pets & Animals\n",
      "ID: 17, Title: Sports\n",
      "ID: 18, Title: Short Movies\n",
      "ID: 19, Title: Travel & Events\n",
      "ID: 20, Title: Gaming\n",
      "ID: 21, Title: Videoblogging\n",
      "ID: 22, Title: People & Blogs\n",
      "ID: 23, Title: Comedy\n",
      "ID: 24, Title: Entertainment\n",
      "ID: 25, Title: News & Politics\n",
      "ID: 26, Title: Howto & Style\n",
      "ID: 27, Title: Education\n",
      "ID: 28, Title: Science & Technology\n",
      "ID: 29, Title: Nonprofits & Activism\n",
      "ID: 30, Title: Movies\n",
      "ID: 31, Title: Anime/Animation\n",
      "ID: 32, Title: Action/Adventure\n",
      "ID: 33, Title: Classics\n",
      "ID: 34, Title: Comedy\n",
      "ID: 35, Title: Documentary\n",
      "ID: 36, Title: Drama\n",
      "ID: 37, Title: Family\n",
      "ID: 38, Title: Foreign\n",
      "ID: 39, Title: Horror\n",
      "ID: 40, Title: Sci-Fi/Fantasy\n",
      "ID: 41, Title: Thriller\n",
      "ID: 42, Title: Shorts\n",
      "ID: 43, Title: Shows\n",
      "ID: 44, Title: Trailers\n"
     ]
    }
   ],
   "source": [
    "# fetching all possible categories for region 'DE' (Germany), you can try other regions as well\n",
    "\n",
    "categories = client.videoCategories().list(part='snippet', regionCode='US').execute()\n",
    "for c in categories['items']:\n",
    "    print(\"ID: {0}, Title: {1}\".format(c['id'], c['snippet']['title']))"
   ]
  },
  {
   "cell_type": "code",
   "execution_count": 23,
   "id": "394a4cd6-6d54-4e3f-981d-ad3cfcc0ae1e",
   "metadata": {},
   "outputs": [],
   "source": [
    "# connect to mongo cloud db and select collection\n",
    "\n",
    "uri = os.getenv('MONGO_URI')\n",
    "client = MongoClient(uri)\n",
    "db = client['youtube-db']\n",
    "collection = db['video-information']\n",
    "\n"
   ]
  },
  {
   "cell_type": "code",
   "execution_count": 14,
   "id": "24dffdf9-1f11-4fd0-9662-6c6f15d56252",
   "metadata": {},
   "outputs": [],
   "source": [
    "# clean data to insert\n",
    "\n",
    "cleaned_data = [{'title': e['snippet']['title'], 'description': e['snippet']['description'], 'tags': e['snippet']['tags'], 'category_id':  int(e['snippet']['categoryId'])} for e in data['items']]"
   ]
  },
  {
   "cell_type": "code",
   "execution_count": 15,
   "id": "44737640-ccaa-4823-954c-dd716c1312cb",
   "metadata": {},
   "outputs": [
    {
     "data": {
      "text/plain": [
       "<pymongo.results.InsertManyResult at 0x7fa37018a800>"
      ]
     },
     "execution_count": 15,
     "metadata": {},
     "output_type": "execute_result"
    }
   ],
   "source": [
    "# insert data in db\n",
    "\n",
    "collection.insert_many(cleaned_data)"
   ]
  },
  {
   "cell_type": "code",
   "execution_count": 16,
   "id": "e9b58c03-f287-41d1-bb09-6563277610a6",
   "metadata": {},
   "outputs": [
    {
     "data": {
      "text/plain": [
       "{'_id': ObjectId('62866cd8a675906c1b0ad811'),\n",
       " 'title': \"A Picture of the Milky Way's Supermassive Black Hole\",\n",
       " 'description': \"This is an image of the supermassive black hole, Sagittarius A*, at the center of our Milky Way galaxy.\\nVisit https://www.kiwico.com/veritasium30 to get 30% off your first month of any crate!\\n\\n▀▀▀\\nImage of Sgr A* from EHT collaboration\\nEvent Horizon Telescope collaboration: https://ve42.co/EHT\\n\\nAnimations from The Relativistic Astrophysics group, Institute for Theoretical Physics,  Goethe-Universität Frankfurt. Massive thanks to Prof. Luciano Rezzolla, Dr Christian Fromm and Dr Alejandro Cruz-Osorio.\\n\\nA huge thanks to Prof. Peter Tuthill and Dr Manisha Caleb for feedback on earlier versions of this video and helping explain VLBI.\\n\\nGreat video by Thatcher Chamberlin about VLBI here – https://youtu.be/Y8rAHTvpJbk\\n\\nAnimations and simulations with English text:\\nL. R. Weih & L. Rezzolla (Goethe University Frankfurt)\\nhttps://youtu.be/jvftAadCFRI\\n\\nVideo of stars going around Sgr A* from European Southern Observatory\\nhttps://www.eso.org/public/videos/eso1825e/\\n\\nVideo zooming into the center of our galaxy from European Southern Observatory\\nhttps://www.youtube.com/watch?v=dXAU0gzsPOw\\n\\nVideo of observation of M87 courtesy of:\\nC. M. Fromm, Y. Mizuno & L. Rezzolla (Goethe University Frankfurt)\\nhttps://youtu.be/meOKmzhTcIY\\n\\nVideo of observation of SgrA* courtesy of\\nC. M. Fromm, Y. Mizuno & L. Rezzolla (Goethe University Frankfurt)\\nZ. Younsi (University College London)\\nhttps://youtu.be/VnsZj9RvhFU\\n\\nVideo of telescopes in the array 2017:\\nC. M. Fromm & L. Rezzolla (Goethe University Frankfurt)\\nhttps://youtu.be/Ame7fzBuFnk\\n\\nAnimations and simulations (no text):\\nL. R. Weih & L. Rezzolla (Goethe University Frankfurt)\\nhttps://youtu.be/XmvpKFSvB7A\\n\\n\\n▀▀▀\\nSpecial thanks to Patreon supporters: Inconcision, Kelly Snook, TTST, Ross McCawley, Balkrishna Heroor, Chris LaClair, Avi Yashchin, John H. Austin, Jr., OnlineBookClub.org, Dmitry Kuzmichev, Matthew Gonzalez, Eric Sexton, john kiehl, Anton Ragin, Diffbot, Micah Mangione, MJP, Gnare, Dave Kircher, Burt Humburg, Blake Byers, Dumky, Evgeny Skvortsov, Meekay, Bill Linder, Paul Peijzel, Josh Hibschman, Mac Malkawi, Michael Schneider, jim buckmaster, Juan Benet, Ruslan Khroma, Robert Blum, Richard Sundvall, Lee Redden, Vincent, Stephen Wilcox, Marinus Kuivenhoven, Clayton Greenwell, Michael Krugman, Cy 'kkm' K'Nelson, Sam Lutfi, Ron Neal\\n\\n▀▀▀\\nWritten by Derek Muller\\nAnimation by Ivy Tello, Mike Radjabov, Maria Raykova\\nFilmed by Petr Lebedev\",\n",
       " 'tags': ['veritasium', 'science', 'physics'],\n",
       " 'category_id': 27}"
      ]
     },
     "execution_count": 16,
     "metadata": {},
     "output_type": "execute_result"
    }
   ],
   "source": [
    "collection.find_one()"
   ]
  },
  {
   "cell_type": "code",
   "execution_count": 5,
   "id": "42548d3c-0a43-482a-8ad0-ff0e5219ac5c",
   "metadata": {},
   "outputs": [
    {
     "name": "stdout",
     "output_type": "stream",
     "text": [
      "[['p-HN_ICaCyM', 'DmfxIhmGPP4', 'FkVe8qrT0LA', 'KdZrxkix9Mk', 'kwrDX5qkwvA', '6ofIBoWGc7k', 'mZBwsm6B280', 'NHZt8eBKcRA', 'kaMKInkV7Vs', 'CRj-sbi2i2I', 'DK3njNP-Qz0', 'Us-__MukH9I', 'ZMkIiFs35HQ', 'vKlVNFOHJ9I', 'w-I6XTVZXww', 'tkC1HHuuk7c', 'n2Kp3toDJ9c', 'uvMGZb0Suyc', 'xgBGibfLD-U', 'kMBj2fp52tA', '4k1jegU4Wb4', 'm4Uth-EaTZ8', 'elvOZm0d4H0', 'WYijIV5JrKg', 'n4gmYjyI3vo', 'sj8Sg8qnjOg', 'XTeJ64KD5cg', 'FFftmWSzgmk', '5TkIe60y2GI', 'QvvkJT8myeI', 'O4ndIDcDSGc', 'pAMgUB51XZA', '1MtEUErz7Gg', 'HJ_PP5rqLg0', 'xOXsDfMMTjs', 'xyVl-tcB8pI', 'JbfhzlMk2eY', 'shEk8sz1oOw', '1GCf29FPM4k', 'MXJ-zpJeY3E', '9RvqE1CQXfI', 'niaeV_NHh-o', 'GItmC9lxeco', 'DpwUVExX27E', 'N92w4e-hrA4', 'pJyKM-7IgAU', 'NFLb1IPlY_k', 'aIggWlKr41w', 'PFkZGpN4wmM', 'X3l0fPHZja8'], ['75d_29QWELk', '7OPg-ksxZ4Y', 'Pj-h6MEgE7I', 'KRvv0QdruMQ', '-O5kNPlUV7w', 'LxgMdjyw8uw', 'lheapd7bgLA', 'lXfEK8G8CUI', 'PaErPyEnDvk', 'h6fcK_fRYaI', 'pP44EPBMb8A', 'E1KkQrFEl2I', 'NxvQPzrg2Wg', 'ulCdoCfw-bY', '5TbUxGZtwGI', 'xaQJbozY_Is', 'ck4RGeoHFko', 'F1Hq8eVOMHs', '0FH9cgRhQ-k', 'p_8yK2kmxoo', 'dGiQaabX3_o', '9P6rdqiybaw', 'NbuUW9i-mHs', 'f7KSfjv4Oq0', 'JXeJANDKwDc', '3mnSDifDSxQ', '4N0qwuG3MaY', '_wbzPFyWHi8', 'JhHMJCUmq28', 'tvEXPT7t4uE', 'dFCbJmgeHmA', '7h4b6eY2BNs', 'J0ldO87Pprc', 'i55FSVhPAjY', '5uMOTpKVTy0', '2MI8Vm02xMc', 'n3Xv_g3g-mA', 'pIGqQ7Gy4U8', 'wGFSFv2qH1w', 'JQVmkDUkZT4', 'O1CQ7Vwz8Eo', '1-NxodiGPCU', 'NWKqXrOseUI', 'H6u0VBqNBQ8', 'hK2uGxLPFIE', 'jAhjPd4uNFY', 'Da-2h2B4faU', '9JpEjZwvJww', 'Pa6l9jzV1Og', 'PxjxY9VilCs'], ['fSaHVHTqDY0', 'yRwoReHd7XU', 'x9Ezzxy0frA', 'Y2ODPFiksBE', 'WIdWjqZsGgg', '2W85Dwxx218', 'o1z2DfFZBS4', 'lkdLg0Nq4SQ', 'iDbdXTMnOmE', 'OI-G23HF6Sw', 'vNDYUlxNIAA', '9iMGFqMmUFs', 'H0-WkpmTPrM', 'z3QPYXNPaaE', 'I7EOTLpDSzs', '3Bax8ijH038', '0dYk99S98Jc', 'A9fQPzZ1-hg', 's_Cs1nbbv_M', 'pq9ECmry8bc', 'zLAYGZeVTPQ', 'pOLmD_WVY-E', 's5CLtBaRIwY', 'Zz0Xcneakeg', 'oetVvR5RQUs', 'Id3TCbpWR2M', 'F5sZQ4Xutgk', 'jMA7pWIFmIg', 'r5Pcqkhmp_0', '77hLX8jO6e4', 'gCrmFbgT37I', 'fZNUcyAhOGI', 'i9p-a8YJO-o', 'D9N7QaIOkG8', 's6TXDFp1EcM', 'A1x7FqXRy9c', 'QKae1k1BDdA', 'ByCTeTI3SDg', '169N81xAffQ', 'lfe1wEQzSzM', '8_TYFfkc_1U', 'PUe80HnKE3E', 'f2O6mQkFiiw', '4peuImhJj44', 'xFqecEtdGZ0', 'wCLP3djiKvM', 'VmWVXOIQblM', 'p7EsMIxcN5s', '7SWvDHvWXok', 'IxndOd3kmSs'], ['MgUqwCat-Ho', 'ydxet8JikFs', '5vdP-Vuq-kY', '3h00zAFRLPY', 'hjtJ6fG4q_k', 'gdN_F-SBGi4', 'wQTOV2zqHFE', 'mwFxp69LoQ4', 'qkfPFSPSZlA', 'ptm0ZabQCN8', 'KEuNUgIiIyI', 'MO4Xe3vSEuI', 'zF09rkKzJoE', 'Han33kIlnnE', 'MZtvzfEBCUY', 'nZDone5iHw0', 'msqjDQLiOok', 'qtz0ge2ulYI', '-IWz2wARDOk', 'aHeqPnTyMI0', 'LonDC-l4IVs', 'ufoq1zs5mos', 'unwJSkloq8M', 'tywU-wn6tF4', 'bk7dbKqRLaE', 'rK3j0hGGM5w', 'gzwfDNF26eA', 'DoFp_529Xzg', 'J_wGSXLoODI', 'CHn_yyU8yPY', 'qyUc9ZspVpw', 'E8gItS9vGKg', 'MiZ1m1fgREo', 'MCGyRxAmdEg', 'SDVU0ENxN7g', 'pauiBVzELTc', 'bOeN4FV6lJs', 'yr5nnZud5ao', 'HbHoRjIHOTE', 'F-jgq3BX22I', 'Jmaak1LXeZE', 'tltdtjt7HgM', 'N82iAxzpBBw', 'K6mHqvq8G0w', 'ARAzeSH9J9g', '6BuVmbuxZco', 'l0OfTOOYai8', 'WZKMzjfJ-x4', 'NLM9zQxcCBs', 'yT2G-t--ghU'], ['OmJ-4B-mS-Y', 'Kp2bYWRQylk', 'I4pQbo5MQOs', 'TMubSggUOVE', 'uMMQbcisins', 'lGfsp2CWjok', 'V6yixyiJcos', 'WjJ-kpgps1c', 'GY6Q2f2kvY0', 'HeQX2HjkcNo', 'X_CK1e0Lmxw', '2No_CMrxBe8', 'VN19VOMHxkk', 'IUTGFQpKaPU', '64643Op6WJo', 'HPsazrVSjl8', '094y1Z2wpJg', 'NybHckSEQBI', 'lJ3CD9M3nEQ', 'KzfWUEJjG18', 'BouqkWYlfzg', 'dAgfnK528RA', 'phZ4KJbPShU', 'V3dFHt9p5W8', 'W3lPO3LrVuE', 'Z757THlXLA8', 'JJQWtGm3eIs', 'ffLLmV4mZwU', 'vK2egUSmTS8', 'PDmn6_X6xII', 'Jp0lPj2-DQA', '6ZrO90AI0c8', 'ObiqJzfyACM', 'ribKEYXCs9o', '04x4ZdLpN-0', '52tpYl2tTqk', '5PcpBw5Hbwo', 'JeVSmq1Nrpw', 'cC0fZ_lkFpQ', 'IwW0GJWKH98', 'sW9npZVpiMI', 'T_6Mq6PWoGc', 'AAY1bsazcgM', 'pTnEG_WGd2Q', 'tBkQAxt1JXA', 'PMerSm2ToFY', 'mYAahN1G8Y8', 'NSfYKaJSawI', '4PFG1T1mO8I', 'Veb22xD0Ao0'], ['o_XVt5rdpFY', '95NgtNgmnWA', 'd0yGdNEWdn0', '3i1lNJPY-4Q', '83y55TVK09E', 'Yr_poW-KK1Q', 'VQRjouwKDlU', 'qYsHLUAlH_8', 'pb_fdgm4VIQ', 'r3wiEHX8QdU', 'CNbklPRdT4Y', 's3SDl4jxVyM', 'WL730tyfRNU', 'Ke9ki4Fdqkc', 'FYlzJc8aaC0', 'TpkZKMN9tDs', 'qD0rtYNpQx0', 'dPqWN2dlsBg', 'mS5Y69v0X7s', 'qmhkzM6MurU', '3MBPPg1xAsA', '5dY7V6P9OFA', 'J_EQDtpYSNM', 'eUm85TGJm0k', 'MMmOLN5zBLY', 'ZqObBG-NYPI', 'Mls2m_oZT6U', 'MqR3K1alUio', 'ht36XUKySBI', 'Ge7c7otG2mk', 'illApgaLgGA', 'VnPSZ0WSYdI', '6_X0cQJWVuY', 'mjkuj7U3JSM', 'Evbwtef8_-g', 'PE_eolTGTTA', 'PzmAkCQUHa4', 'FzVSocskDLw', 'mXqFD2bWHxU', 'uTi1px7V0Rc', 'wkjSBC-_bDA', 'Pi5taR18uZ8', 'gjZMomXs35Q', 'DItgEwqKF94', 'Rj8bxm0fERw', 'yXFi9ZvbxnI', 'SDLlhUv519k', 'kL6gjdzmWSs', 'ena5AvAEElQ', 't7-nb1wlnyA'], ['t7-nb1wlnyA', 'qE-03EATjho', '1rILG4iS9EU', 'LGMKg6MUdxI', 'DAp_v7EH9AA', '0lriA2ZoacE', 'fywj38zHPng', 'xglEjH0Ue8o', 'gT74TuiP_xc', 'ExIKFOHOkxA', 'JVyYSLvdFo4', 'vHGNl0pMmLE', '8Slrv-ZIyQU', 'VLGhEfLB_Tk', 'pxJXQ_vxgC4', 'z8FACVD9vz4', 'mi7oRyDhBF0', '8yuiUvi568I', 'wkJJJxX-VBI', 'hyLl_0d0EBw', 'UxE3n6beo0k', 'etQvoqugIWY', 'mcwp8_dhgCU', 'eviS6a_ld2A', 'FqCifo9GUSE', '6j3e-vt2dVg', '6cUj2bPrKlg', 'W4iWOP3rknc', 'MvxyHtN6kWE', 'kAAuF5PeNo0', 'W-C6zkH228k', 'bX5YMTR_AkM', 'xYdocrNPuBk', 'kJQjXAVEWt0', 'aD5pRgDoYuw', '9hxMIOQlHeU', '7YsduWiBHBs', 'FvYnk9muPkU', 'luj8bpvRQ34', 'ThcU0KWJCUk', 'aFoSOVva3nY', 'D7EKFyjFRGc', 'vXQgLD2WYpo', 'JpJn7aUXGTM', 'b-2-MRSl4no', 'fVk0ztHp8Fo', 'qBmbmfb0AzM', 'BWOqJ3TTMmo', 'fcG8VPjvNSU', 'DwbAW8G-57A'], ['9OnINP-fGm4', 'juKd26qkNAw', '4BeeN2VLvMw', 'vxxrzCZolms', 'DPmtnb8NBog', 'cJprHJ4mrPI', '7HUW_aukApo', 'mgty3Bgu-YY', 'qjbBeORPUA4', 'nY7WexF1tsc', '14cRYINkTuU', 'zNxdtSlQo9g', 'Z19NAX_gWxI', 'P500FJ8Sptk', 'nnDVoc5GwSc', 'xZIh2so3-AU', 'iREu3isY_R4', 'ySWJfjhPrAc', 'YpKQ3d7-_RU', 'Slmwd4eQOkU', 'UqwbBl7l86s', '3ha-kqV0P38', 'wp11_oeFN-I', 'F-vLdvPjN-k', 'W_zYqtkqcFI', 'TxI1CfEcrLA', 'tpTXmvbV2Is', 'FYGv6om0pjI', 'FZXyYuiyq2I', 'GBee7qwyl5k', 'VxxqyT32Sp8', 'E0APXrppsP4', '5CWwwAX0uUA', 'ql9-75jhQxE', 'yoEtuFjTrNE', 'LWEBcN2o7Pc', '56xO4CKoBVE', 'YswTDLQZe-0', '8irSFvoyLHQ', 'lKfCNammDck', 'lgOKDHH3Fu4', 'J4kd-hG9ZDk', '-SsDV5qd5cw', 'hFIGwwE1uAM', 'HXXKneGC7ZE', '9g5X11dH-Lc', 'tn5gbO_Lsx8', 'M31E5zgAj_M', '8lPERiB_nZE', 'y-x1yY4fJQE']]\n"
     ]
    }
   ],
   "source": [
    "# fetch and insert data for multiple queries\n",
    "\n",
    "queries = [\"numberphile\", \"in a nutshell\", \"ted-ed\", \"Daniel Jung\", \"math explained\", \"learn a new language\", \"learn spanish\", \"learn english\"]\n",
    "\n",
    "\n",
    "ids = []\n",
    "for q in queries:\n",
    "    # hit a search query\n",
    "    search = client.search().list(q=q, part='snippet', type='video', maxResults=50).execute()\n",
    "    \n",
    "    # filtering out the videoIds from the search query\n",
    "    videoIds = [v['id']['videoId'] for v in search['items']]\n",
    "    \n",
    "    ids.append(videoIds)\n",
    "    \n",
    "print(ids)"
   ]
  },
  {
   "cell_type": "code",
   "execution_count": null,
   "id": "a2b7f75d-ca6d-436b-8fcf-1b241bb7b7de",
   "metadata": {},
   "outputs": [],
   "source": [
    "educational = list(collection.find({\"category_id\": 27}))"
   ]
  },
  {
   "cell_type": "code",
   "execution_count": null,
   "id": "17bc3848-8ee0-45b8-be9e-607886dd7cf3",
   "metadata": {},
   "outputs": [
    {
     "data": {
      "text/plain": [
       "337"
      ]
     },
     "execution_count": 56,
     "metadata": {},
     "output_type": "execute_result"
    }
   ],
   "source": [
    "len(educational)"
   ]
  },
  {
   "cell_type": "code",
   "execution_count": null,
   "id": "772003f5-f75e-4af0-8fa0-149d8c4aab45",
   "metadata": {},
   "outputs": [],
   "source": []
  }
 ],
 "metadata": {
  "interpreter": {
   "hash": "38cca0c38332a56087b24af0bc80247f4fced29cb4f7f437d91dc159adec9c4e"
  },
  "kernelspec": {
   "display_name": "Python 3 (ipykernel)",
   "language": "python",
   "name": "python3"
  },
  "language_info": {
   "codemirror_mode": {
    "name": "ipython",
    "version": 3
   },
   "file_extension": ".py",
   "mimetype": "text/x-python",
   "name": "python",
   "nbconvert_exporter": "python",
   "pygments_lexer": "ipython3",
   "version": "3.9.12"
  }
 },
 "nbformat": 4,
 "nbformat_minor": 5
}
