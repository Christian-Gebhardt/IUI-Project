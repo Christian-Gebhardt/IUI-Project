{
 "cells": [
  {
   "cell_type": "code",
   "execution_count": 5,
   "id": "6a020faf-c117-45ad-b863-86641118f79d",
   "metadata": {},
   "outputs": [],
   "source": [
    "import pandas as pd\n",
    "import numpy as np\n",
    "from apiclient.discovery import build\n",
    "from pymongo import MongoClient\n",
    "import os\n",
    "from dotenv import load_dotenv\n",
    "import string\n",
    "from nltk.tokenize import word_tokenize\n",
    "import nltk\n",
    "from nltk.corpus import stopwords\n",
    "from sklearn.feature_extraction.text import TfidfVectorizer\n",
    "from sklearn.feature_extraction.text import CountVectorizer\n",
    "from sklearn.feature_extraction.text import TfidfTransformer\n",
    "from sklearn.feature_extraction.text import HashingVectorizer\n",
    "from sklearn.feature_selection import SelectKBest\n",
    "from sklearn.feature_selection import f_classif\n",
    "from sklearn.model_selection import train_test_split\n",
    "from sklearn.pipeline import Pipeline\n",
    "from sklearn.linear_model import SGDClassifier\n",
    "from sklearn.ensemble import RandomForestClassifier\n",
    "from sklearn.neural_network import MLPClassifier\n",
    "from sklearn import metrics\n",
    "from sklearn.compose import ColumnTransformer\n",
    "import pickle\n",
    "import matplotlib.pyplot as plt"
   ]
  },
  {
   "cell_type": "markdown",
   "id": "1f6de9dc-2af3-4988-abca-12597c5061ab",
   "metadata": {},
   "source": [
    "# Connecting to DB and loading data..."
   ]
  },
  {
   "cell_type": "code",
   "execution_count": 7,
   "id": "dc15b323-4210-4df7-b0fb-84c55aa01736",
   "metadata": {},
   "outputs": [],
   "source": [
    "# connect to mongo cloud db and select collection\n",
    "\n",
    "load_dotenv()\n",
    "\n",
    "uri = os.getenv('MONGO_URI')\n",
    "\n",
    "mongo_client = MongoClient(uri)\n",
    "\n",
    "db = mongo_client['youtube-db']"
   ]
  },
  {
   "cell_type": "code",
   "execution_count": 8,
   "id": "4b24ab33-6196-4554-bd80-bef027bfb932",
   "metadata": {},
   "outputs": [],
   "source": [
    "# select collections for training and test data\n",
    "\n",
    "train_col = db['training_col']\n",
    "test_col = db['test_col']"
   ]
  },
  {
   "cell_type": "code",
   "execution_count": 9,
   "id": "e2e68786-4b08-4be7-96ea-354cea640f48",
   "metadata": {},
   "outputs": [],
   "source": [
    "# fetching data from training collection, might take a view seconds...\n",
    "\n",
    "data = list(train_col.find())"
   ]
  },
  {
   "cell_type": "code",
   "execution_count": 10,
   "id": "a55d8bdd-b92c-4a45-9560-03500bfcebdf",
   "metadata": {},
   "outputs": [
    {
     "data": {
      "text/html": [
       "<div>\n",
       "<style scoped>\n",
       "    .dataframe tbody tr th:only-of-type {\n",
       "        vertical-align: middle;\n",
       "    }\n",
       "\n",
       "    .dataframe tbody tr th {\n",
       "        vertical-align: top;\n",
       "    }\n",
       "\n",
       "    .dataframe thead th {\n",
       "        text-align: right;\n",
       "    }\n",
       "</style>\n",
       "<table border=\"1\" class=\"dataframe\">\n",
       "  <thead>\n",
       "    <tr style=\"text-align: right;\">\n",
       "      <th></th>\n",
       "      <th>_id</th>\n",
       "      <th>video_id</th>\n",
       "      <th>title</th>\n",
       "      <th>description</th>\n",
       "      <th>category_id</th>\n",
       "    </tr>\n",
       "  </thead>\n",
       "  <tbody>\n",
       "    <tr>\n",
       "      <th>0</th>\n",
       "      <td>628e25946b047126d6d3794b</td>\n",
       "      <td>FfJ5XG5i2aw</td>\n",
       "      <td>introducing teded lessons worth sharing</td>\n",
       "      <td>tededs mission is to capture and amplify the v...</td>\n",
       "      <td>1</td>\n",
       "    </tr>\n",
       "    <tr>\n",
       "      <th>1</th>\n",
       "      <td>628e25946b047126d6d3794c</td>\n",
       "      <td>Oi2_qJumnDo</td>\n",
       "      <td>teded lessons worth sharing</td>\n",
       "      <td></td>\n",
       "      <td>0</td>\n",
       "    </tr>\n",
       "    <tr>\n",
       "      <th>2</th>\n",
       "      <td>628e25946b047126d6d3794d</td>\n",
       "      <td>2W85Dwxx218</td>\n",
       "      <td>why do we dream  amy adkins</td>\n",
       "      <td>view full lesson httpedtedcomlessonswhydowedre...</td>\n",
       "      <td>1</td>\n",
       "    </tr>\n",
       "    <tr>\n",
       "      <th>3</th>\n",
       "      <td>628e25946b047126d6d3794e</td>\n",
       "      <td>LaLvVc1sS20</td>\n",
       "      <td>the history of tea  shunan teng</td>\n",
       "      <td>view full lesson httpedtedcomlessonsthehistory...</td>\n",
       "      <td>1</td>\n",
       "    </tr>\n",
       "    <tr>\n",
       "      <th>4</th>\n",
       "      <td>628e25946b047126d6d3794f</td>\n",
       "      <td>MMmOLN5zBLY</td>\n",
       "      <td>the benefits of a bilingual brain  mia nacamulli</td>\n",
       "      <td>check out our patreon page httpswwwpatreoncomt...</td>\n",
       "      <td>1</td>\n",
       "    </tr>\n",
       "    <tr>\n",
       "      <th>...</th>\n",
       "      <td>...</td>\n",
       "      <td>...</td>\n",
       "      <td>...</td>\n",
       "      <td>...</td>\n",
       "      <td>...</td>\n",
       "    </tr>\n",
       "    <tr>\n",
       "      <th>77468</th>\n",
       "      <td>628fdbf42ea84f31c91ecf80</td>\n",
       "      <td>RPz_XktsEFE</td>\n",
       "      <td>euphoria  season 2  official tease  hbo</td>\n",
       "      <td>january 9 hbo maxeuphoria\\r\\rzendaya leads an ...</td>\n",
       "      <td>0</td>\n",
       "    </tr>\n",
       "    <tr>\n",
       "      <th>77469</th>\n",
       "      <td>628fdbf42ea84f31c91ecf81</td>\n",
       "      <td>ffcitRgiNDs</td>\n",
       "      <td>adele  easy on me live at the nrj awards 2021</td>\n",
       "      <td>easy on me by adele live at the nrj awards 202...</td>\n",
       "      <td>0</td>\n",
       "    </tr>\n",
       "    <tr>\n",
       "      <th>77470</th>\n",
       "      <td>628fdbf42ea84f31c91ecf82</td>\n",
       "      <td>reEiGS35Iuc</td>\n",
       "      <td>minecraft copper golem morphing</td>\n",
       "      <td>⭐check out my channel override   httpswwwyoutu...</td>\n",
       "      <td>0</td>\n",
       "    </tr>\n",
       "    <tr>\n",
       "      <th>77471</th>\n",
       "      <td>628fdbf42ea84f31c91ecf83</td>\n",
       "      <td>TPAoof3GSyE</td>\n",
       "      <td>glee did not age well</td>\n",
       "      <td>use code eddy14 for up to 14 free meals  3 fre...</td>\n",
       "      <td>0</td>\n",
       "    </tr>\n",
       "    <tr>\n",
       "      <th>77472</th>\n",
       "      <td>628fdbf42ea84f31c91ecf84</td>\n",
       "      <td>YZulBGsCWio</td>\n",
       "      <td>my crush gives me the ultimate makeover</td>\n",
       "      <td>this makeover was crazy thank you james and le...</td>\n",
       "      <td>0</td>\n",
       "    </tr>\n",
       "  </tbody>\n",
       "</table>\n",
       "<p>77473 rows × 5 columns</p>\n",
       "</div>"
      ],
      "text/plain": [
       "                            _id     video_id  \\\n",
       "0      628e25946b047126d6d3794b  FfJ5XG5i2aw   \n",
       "1      628e25946b047126d6d3794c  Oi2_qJumnDo   \n",
       "2      628e25946b047126d6d3794d  2W85Dwxx218   \n",
       "3      628e25946b047126d6d3794e  LaLvVc1sS20   \n",
       "4      628e25946b047126d6d3794f  MMmOLN5zBLY   \n",
       "...                         ...          ...   \n",
       "77468  628fdbf42ea84f31c91ecf80  RPz_XktsEFE   \n",
       "77469  628fdbf42ea84f31c91ecf81  ffcitRgiNDs   \n",
       "77470  628fdbf42ea84f31c91ecf82  reEiGS35Iuc   \n",
       "77471  628fdbf42ea84f31c91ecf83  TPAoof3GSyE   \n",
       "77472  628fdbf42ea84f31c91ecf84  YZulBGsCWio   \n",
       "\n",
       "                                                  title  \\\n",
       "0               introducing teded lessons worth sharing   \n",
       "1                           teded lessons worth sharing   \n",
       "2                           why do we dream  amy adkins   \n",
       "3                       the history of tea  shunan teng   \n",
       "4      the benefits of a bilingual brain  mia nacamulli   \n",
       "...                                                 ...   \n",
       "77468           euphoria  season 2  official tease  hbo   \n",
       "77469     adele  easy on me live at the nrj awards 2021   \n",
       "77470                   minecraft copper golem morphing   \n",
       "77471                             glee did not age well   \n",
       "77472           my crush gives me the ultimate makeover   \n",
       "\n",
       "                                             description  category_id  \n",
       "0      tededs mission is to capture and amplify the v...            1  \n",
       "1                                                                   0  \n",
       "2      view full lesson httpedtedcomlessonswhydowedre...            1  \n",
       "3      view full lesson httpedtedcomlessonsthehistory...            1  \n",
       "4      check out our patreon page httpswwwpatreoncomt...            1  \n",
       "...                                                  ...          ...  \n",
       "77468  january 9 hbo maxeuphoria\\r\\rzendaya leads an ...            0  \n",
       "77469  easy on me by adele live at the nrj awards 202...            0  \n",
       "77470  ⭐check out my channel override   httpswwwyoutu...            0  \n",
       "77471  use code eddy14 for up to 14 free meals  3 fre...            0  \n",
       "77472  this makeover was crazy thank you james and le...            0  \n",
       "\n",
       "[77473 rows x 5 columns]"
      ]
     },
     "execution_count": 10,
     "metadata": {},
     "output_type": "execute_result"
    }
   ],
   "source": [
    "df = pd.DataFrame(data)\n",
    "df"
   ]
  },
  {
   "cell_type": "markdown",
   "id": "fefc33bc-48a0-44bb-a191-16cff5aaa82e",
   "metadata": {},
   "source": [
    "# Building and testing ML models"
   ]
  },
  {
   "cell_type": "code",
   "execution_count": 11,
   "id": "3ebe2dd4-5dee-4aae-b43f-c2d7e6e3b65e",
   "metadata": {},
   "outputs": [],
   "source": [
    "# splitting data into training and test data\n",
    "\n",
    "X = df['title'] + \" \" + df['description']\n",
    "y = df['category_id']\n",
    "\n",
    "X_train, X_test, y_train, y_test = train_test_split(X, y, test_size=0.2, random_state=42, shuffle=True, stratify=y)\n",
    "\n",
    "# loading new random data\n",
    "\n",
    "test_data = list(test_col.find())\n",
    "\n",
    "test_df = pd.DataFrame(test_data)\n",
    "\n",
    "X_new = test_df['title'] + \" \" + test_df['description']\n",
    "y_new = test_df['category_id']"
   ]
  },
  {
   "cell_type": "markdown",
   "id": "3cfe085f-9736-4107-b248-4aeb774ca753",
   "metadata": {},
   "source": [
    "# SGD Classifier"
   ]
  },
  {
   "cell_type": "code",
   "execution_count": 12,
   "id": "e22b83eb-35f9-4291-ac55-5fc622aa5ab9",
   "metadata": {},
   "outputs": [],
   "source": [
    "# Building ML Pipeline\n",
    "\n",
    "sgd_clf = Pipeline([\n",
    "    ('tfidf', TfidfVectorizer(ngram_range=(1, 2))),\n",
    "    ('clf', SGDClassifier(loss='hinge', penalty='l2', alpha=1e-3, random_state=42, max_iter=1000, tol=None)),\n",
    "    ])"
   ]
  },
  {
   "cell_type": "code",
   "execution_count": 187,
   "id": "e1fb10c1-0819-4689-a675-f137bb371a8e",
   "metadata": {},
   "outputs": [
    {
     "data": {
      "text/plain": [
       "Pipeline(steps=[('tfidf', TfidfVectorizer(ngram_range=(1, 2))),\n",
       "                ('clf', SGDClassifier(alpha=0.001, random_state=42, tol=None))])"
      ]
     },
     "execution_count": 187,
     "metadata": {},
     "output_type": "execute_result"
    }
   ],
   "source": [
    "sgd_clf.fit(X_train, y_train)"
   ]
  },
  {
   "cell_type": "code",
   "execution_count": 188,
   "id": "c97be547-0362-4950-a806-0a9610f269a5",
   "metadata": {},
   "outputs": [
    {
     "name": "stdout",
     "output_type": "stream",
     "text": [
      "Metrics on test data from split:\n",
      "              precision    recall  f1-score   support\n",
      "\n",
      "           0       1.00      0.90      0.95      7970\n",
      "           1       0.15      0.99      0.27       140\n",
      "\n",
      "    accuracy                           0.91      8110\n",
      "   macro avg       0.58      0.95      0.61      8110\n",
      "weighted avg       0.99      0.91      0.94      8110\n",
      "\n",
      "Metrics on new random data:\n",
      "              precision    recall  f1-score   support\n",
      "\n",
      "           0       1.00      0.93      0.96      4948\n",
      "           1       0.13      1.00      0.23        52\n",
      "\n",
      "    accuracy                           0.93      5000\n",
      "   macro avg       0.57      0.97      0.60      5000\n",
      "weighted avg       0.99      0.93      0.96      5000\n",
      "\n"
     ]
    }
   ],
   "source": [
    "# Evaluating metrics on test data\n",
    "\n",
    "predicted = sgd_clf.predict(X_test)\n",
    "\n",
    "print(\"Metrics on test data from split:\")\n",
    "\n",
    "print(metrics.classification_report(predicted, y_test))\n",
    "\n",
    "# Evaluating clf against completly new random data\n",
    "\n",
    "predicted_new = sgd_clf.predict(X_new)\n",
    "\n",
    "print(\"Metrics on new random data:\")\n",
    "\n",
    "print(metrics.classification_report(predicted_new, y_new))"
   ]
  },
  {
   "cell_type": "markdown",
   "id": "3815e221-d00e-4086-9395-53735f9b71c8",
   "metadata": {},
   "source": [
    "# Random Forest Classifier"
   ]
  },
  {
   "cell_type": "code",
   "execution_count": 204,
   "id": "367c5068-d639-428d-bb70-d6f707346813",
   "metadata": {},
   "outputs": [],
   "source": [
    "# Building ML Pipeline\n",
    "\n",
    "rf_clf = Pipeline([\n",
    "    ('tfidf', TfidfVectorizer(ngram_range=(1, 2))),\n",
    "    ('clf', RandomForestClassifier()),\n",
    "    ])"
   ]
  },
  {
   "cell_type": "code",
   "execution_count": 205,
   "id": "4c19c9ab-7cc1-411f-8b7b-48ad86bdc4eb",
   "metadata": {},
   "outputs": [
    {
     "data": {
      "text/plain": [
       "Pipeline(steps=[('tfidf', TfidfVectorizer(ngram_range=(1, 2))),\n",
       "                ('clf', RandomForestClassifier())])"
      ]
     },
     "execution_count": 205,
     "metadata": {},
     "output_type": "execute_result"
    }
   ],
   "source": [
    "rf_clf.fit(X_train, y_train)"
   ]
  },
  {
   "cell_type": "code",
   "execution_count": 206,
   "id": "73d9c79e-cac8-499d-9888-ad14a9430a6e",
   "metadata": {},
   "outputs": [
    {
     "name": "stdout",
     "output_type": "stream",
     "text": [
      "              precision    recall  f1-score   support\n",
      "\n",
      "           0       1.00      1.00      1.00      7185\n",
      "           1       0.98      1.00      0.99       925\n",
      "\n",
      "    accuracy                           1.00      8110\n",
      "   macro avg       0.99      1.00      0.99      8110\n",
      "weighted avg       1.00      1.00      1.00      8110\n",
      "\n",
      "Metrics on new random data:\n",
      "              precision    recall  f1-score   support\n",
      "\n",
      "           0       1.00      0.97      0.98      4743\n",
      "           1       0.63      0.98      0.77       257\n",
      "\n",
      "    accuracy                           0.97      5000\n",
      "   macro avg       0.81      0.97      0.88      5000\n",
      "weighted avg       0.98      0.97      0.97      5000\n",
      "\n",
      "[[4596  147]\n",
      " [   6  251]]\n"
     ]
    }
   ],
   "source": [
    "# Evaluating metrics on test data\n",
    "\n",
    "predicted = rf_clf.predict(X_test)\n",
    "\n",
    "print(metrics.classification_report(predicted, y_test))\n",
    "\n",
    "# Evaluating clf against completly new random data\n",
    "\n",
    "predicted_new = rf_clf.predict(X_new)\n",
    "\n",
    "print(\"Metrics on new random data:\")\n",
    "\n",
    "print(metrics.classification_report(predicted_new, y_new))\n",
    "\n",
    "print(metrics.confusion_matrix(predicted_new, y_new))"
   ]
  },
  {
   "cell_type": "markdown",
   "id": "8778125a-7fa2-4b9f-8651-4d7ea8175ac7",
   "metadata": {},
   "source": [
    "# Multi Layer Perceptron Classifier"
   ]
  },
  {
   "cell_type": "code",
   "execution_count": 13,
   "id": "52bccda3-05a8-4e7e-80f4-5e83b9becf21",
   "metadata": {},
   "outputs": [],
   "source": [
    "# Building ML Pipeline\n",
    "\n",
    "mlp_clf = Pipeline([\n",
    "    ('tfidf', TfidfVectorizer(ngram_range=(1, 2))),\n",
    "    ('clf', MLPClassifier(verbose=True))\n",
    "])"
   ]
  },
  {
   "cell_type": "code",
   "execution_count": 14,
   "id": "f12be123-2c8c-43a0-a066-ea1518cc91c6",
   "metadata": {},
   "outputs": [
    {
     "name": "stderr",
     "output_type": "stream",
     "text": [
      "/opt/homebrew/Caskroom/miniforge/base/envs/default/lib/python3.9/site-packages/sklearn/neural_network/_multilayer_perceptron.py:699: UserWarning: Training interrupted by user.\n",
      "  warnings.warn(\"Training interrupted by user.\")\n"
     ]
    },
    {
     "data": {
      "text/plain": [
       "Pipeline(steps=[('tfidf', TfidfVectorizer(ngram_range=(1, 2))),\n",
       "                ('clf', MLPClassifier(verbose=True))])"
      ]
     },
     "execution_count": 14,
     "metadata": {},
     "output_type": "execute_result"
    }
   ],
   "source": [
    "mlp_clf.fit(X_train, y_train)"
   ]
  },
  {
   "cell_type": "code",
   "execution_count": 217,
   "id": "25777aab-6184-4da0-9dfb-f7796171b4c2",
   "metadata": {},
   "outputs": [
    {
     "name": "stdout",
     "output_type": "stream",
     "text": [
      "              precision    recall  f1-score   support\n",
      "\n",
      "           0       1.00      1.00      1.00      7176\n",
      "           1       0.99      1.00      0.99       934\n",
      "\n",
      "    accuracy                           1.00      8110\n",
      "   macro avg       0.99      1.00      1.00      8110\n",
      "weighted avg       1.00      1.00      1.00      8110\n",
      "\n",
      "Metrics on new random data:\n",
      "              precision    recall  f1-score   support\n",
      "\n",
      "           0       1.00      0.97      0.99      9366\n",
      "           1       0.71      0.97      0.82       634\n",
      "\n",
      "    accuracy                           0.97     10000\n",
      "   macro avg       0.85      0.97      0.90     10000\n",
      "weighted avg       0.98      0.97      0.97     10000\n",
      "\n"
     ]
    }
   ],
   "source": [
    "# Evaluating metrics on test data\n",
    "\n",
    "predicted = mlp_clf.predict(X_test)\n",
    "\n",
    "print(metrics.classification_report(predicted, y_test))\n",
    "\n",
    "# Evaluating clf against completly new random data\n",
    "\n",
    "predicted_new = mlp_clf.predict(X_new)\n",
    "\n",
    "print(\"Metrics on new random data:\")\n",
    "\n",
    "print(metrics.classification_report(predicted_new, y_new))"
   ]
  },
  {
   "cell_type": "code",
   "execution_count": null,
   "id": "1ef24563-74d9-42f3-88ef-10a7fd1c7542",
   "metadata": {},
   "outputs": [],
   "source": [
    "analysis = test_df[test_df[\"category_id\"] == 1] \n",
    "analysis[100:150]"
   ]
  },
  {
   "cell_type": "markdown",
   "id": "df41da2c-24c1-445c-8f1c-a5ecff49d422",
   "metadata": {},
   "source": [
    "# <mark>TODO</mark>: Grid Search for optimal params"
   ]
  },
  {
   "cell_type": "code",
   "execution_count": 15,
   "id": "295ce477-0e79-4cf9-8125-4226e477556c",
   "metadata": {},
   "outputs": [],
   "source": [
    "# setup train and test data (with subset of original data)\n",
    "\n",
    "random_train = df.sample(n=20000)\n",
    "random_test = test_df.sample(n=5000)\n",
    "\n",
    "X = random_train['title'] + \" \" + random_train['description']\n",
    "y = random_train['category_id']\n",
    "\n",
    "X_train, X_test, y_train, y_test = train_test_split(X, y, test_size=0.1, random_state=42, shuffle=True, stratify=y)\n",
    "\n",
    "X_new = random_test['title'] + \" \" + random_test['description']\n",
    "y_new = random_test['category_id']"
   ]
  },
  {
   "cell_type": "code",
   "execution_count": 16,
   "id": "b7b13abf-fa61-4566-b52d-8beb94c6ae0b",
   "metadata": {},
   "outputs": [],
   "source": [
    "# Building ML Pipeline, using HashingVectorizer\n",
    "\n",
    "mlp_clf = Pipeline([\n",
    "    ('hvec', HashingVectorizer(strip_accents='ascii', stop_words='english', ngram_range=(1, 2))),\n",
    "    ('clf', MLPClassifier(hidden_layer_sizes=(32, 32), verbose=True, warm_start=True))\n",
    "])"
   ]
  },
  {
   "cell_type": "code",
   "execution_count": 17,
   "id": "bd08ce98-9b3e-4957-80c5-a36c4f6a95d7",
   "metadata": {},
   "outputs": [
    {
     "name": "stdout",
     "output_type": "stream",
     "text": [
      "Iteration 1, loss = 0.47051191\n",
      "Iteration 2, loss = 0.08992149\n",
      "Iteration 3, loss = 0.01292219\n",
      "Iteration 4, loss = 0.00511756\n",
      "Iteration 5, loss = 0.00306152\n"
     ]
    },
    {
     "name": "stderr",
     "output_type": "stream",
     "text": [
      "/opt/homebrew/Caskroom/miniforge/base/envs/default/lib/python3.9/site-packages/sklearn/neural_network/_multilayer_perceptron.py:699: UserWarning: Training interrupted by user.\n",
      "  warnings.warn(\"Training interrupted by user.\")\n"
     ]
    },
    {
     "data": {
      "text/plain": [
       "Pipeline(steps=[('hvec',\n",
       "                 HashingVectorizer(ngram_range=(1, 2), stop_words='english',\n",
       "                                   strip_accents='ascii')),\n",
       "                ('clf',\n",
       "                 MLPClassifier(hidden_layer_sizes=(32, 32), verbose=True,\n",
       "                               warm_start=True))])"
      ]
     },
     "execution_count": 17,
     "metadata": {},
     "output_type": "execute_result"
    }
   ],
   "source": [
    "mlp_clf['clf'].n_iter_ = 0\n",
    "mlp_clf['clf'].best_loss_ = 1\n",
    "mlp_clf.fit(X_train, y_train)"
   ]
  },
  {
   "cell_type": "code",
   "execution_count": 18,
   "id": "8368cdb5-7541-4f12-a385-13eab0f3d981",
   "metadata": {},
   "outputs": [
    {
     "name": "stdout",
     "output_type": "stream",
     "text": [
      "              precision    recall  f1-score   support\n",
      "\n",
      "           0       1.00      0.99      1.00      1812\n",
      "           1       0.93      0.99      0.96       188\n",
      "\n",
      "    accuracy                           0.99      2000\n",
      "   macro avg       0.96      0.99      0.98      2000\n",
      "weighted avg       0.99      0.99      0.99      2000\n",
      "\n",
      "Metrics on new random data:\n",
      "              precision    recall  f1-score   support\n",
      "\n",
      "           0       1.00      0.97      0.99      4681\n",
      "           1       0.72      0.98      0.83       319\n",
      "\n",
      "    accuracy                           0.97      5000\n",
      "   macro avg       0.86      0.98      0.91      5000\n",
      "weighted avg       0.98      0.97      0.98      5000\n",
      "\n",
      "[[4556  125]\n",
      " [   5  314]]\n"
     ]
    }
   ],
   "source": [
    "# Evaluating metrics on test data\n",
    "\n",
    "predicted = mlp_clf.predict(X_test)\n",
    "\n",
    "print(metrics.classification_report(predicted, y_test))\n",
    "\n",
    "# Evaluating clf against completly new random data\n",
    "\n",
    "predicted_new = mlp_clf.predict(X_new)\n",
    "\n",
    "print(\"Metrics on new random data:\")\n",
    "\n",
    "print(metrics.classification_report(predicted_new, y_new))\n",
    "\n",
    "print(metrics.confusion_matrix(predicted_new, y_new))"
   ]
  },
  {
   "cell_type": "code",
   "execution_count": 23,
   "id": "fd3626be-54c2-4b87-97ff-f65a99478644",
   "metadata": {},
   "outputs": [],
   "source": [
    "# save and load model\n",
    "\n",
    "path = \"../models/mlp_32x32_model.sav\"\n",
    "pickle.dump(mlp_clf, open(path, \"wb\"))\n",
    "mlp_clf = pickle.load(open(path, \"rb\"))"
   ]
  },
  {
   "cell_type": "markdown",
   "id": "ca0b0cb6-cde2-4aea-b02b-3366d603e11f",
   "metadata": {},
   "source": [
    "# Update method could look like this..."
   ]
  },
  {
   "cell_type": "code",
   "execution_count": 1,
   "id": "736587d4-6d91-4e50-8313-a0741726a7bb",
   "metadata": {},
   "outputs": [],
   "source": [
    "def update_ml_model():\n",
    "    old_data = train_col.find()\n",
    "    new_data = user_train_col.find()\n",
    "    \n",
    "    old_df = pd.DataFrame(old_data)\n",
    "    new_df = pd.DataFrame(new_data)\n",
    "    \n",
    "    df = pd.concat([old_df, new_df])\n",
    "    \n",
    "    X_train = df['title'] + \" \" + df['description']\n",
    "    y_train  = df['category_id']\n",
    "    \n",
    "    mlp_clf.fit(X_train, y_train)"
   ]
  },
  {
   "cell_type": "markdown",
   "id": "ab998304-287a-4ddf-b509-31e84b8b1b75",
   "metadata": {},
   "source": [
    "# ROC Analysis"
   ]
  },
  {
   "cell_type": "code",
   "execution_count": 24,
   "id": "268cca9c-be2f-4378-96e1-36600d79d1b9",
   "metadata": {},
   "outputs": [],
   "source": [
    "mlp_clf = pickle.load(open(\"../models/mlp_32x32_model.sav\", \"rb\"))\n",
    "y_score = mlp_clf.predict_proba(X_new)\n",
    "\n",
    "fpr, tpr, thresholds = metrics.roc_curve(y_new, y_score[:, -1], pos_label=1, sample_weight=None, drop_intermediate=True)\n",
    "roc_auc = metrics.auc(fpr, tpr)"
   ]
  },
  {
   "cell_type": "code",
   "execution_count": 25,
   "id": "7030127d-841b-4c14-9fbc-d75eecf0535f",
   "metadata": {},
   "outputs": [
    {
     "data": {
      "image/png": "[encoded data removed]",
      "text/plain": [
       "<Figure size 432x288 with 1 Axes>"
      ]
     },
     "metadata": {
      "needs_background": "light"
     },
     "output_type": "display_data"
    }
   ],
   "source": [
    "plt.figure()\n",
    "lw = 2\n",
    "plt.plot(\n",
    "    fpr,\n",
    "    tpr,\n",
    "    color=\"darkorange\",\n",
    "    lw=lw,\n",
    "    label=\"ROC curve (area = %0.2f)\" % roc_auc,\n",
    ")\n",
    "plt.plot([0, 1], [0, 1], color=\"navy\", lw=lw, linestyle=\"--\")\n",
    "plt.xlim([0.0, 1.0])\n",
    "plt.ylim([0.0, 1.05])\n",
    "plt.xlabel(\"False Positive Rate\")\n",
    "plt.ylabel(\"True Positive Rate\")\n",
    "plt.title(\"Receiver operating characteristic example\")\n",
    "plt.legend(loc=\"lower right\")\n",
    "plt.show()"
   ]
  },
  {
   "cell_type": "code",
   "execution_count": null,
   "id": "0fbd7ba9-902c-49e2-bc39-143bbb5eab93",
   "metadata": {},
   "outputs": [],
   "source": []
  }
 ],
 "metadata": {
  "kernelspec": {
   "display_name": "Python 3 (ipykernel)",
   "language": "python",
   "name": "python3"
  },
  "language_info": {
   "codemirror_mode": {
    "name": "ipython",
    "version": 3
   },
   "file_extension": ".py",
   "mimetype": "text/x-python",
   "name": "python",
   "nbconvert_exporter": "python",
   "pygments_lexer": "ipython3",
   "version": "3.9.12"
  }
 },
 "nbformat": 4,
 "nbformat_minor": 5
}
