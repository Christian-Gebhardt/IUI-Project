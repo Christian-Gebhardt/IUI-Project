{
 "cells": [
  {
   "cell_type": "code",
   "execution_count": 1,
   "id": "2d6e0355-3698-4b14-9732-d9dcdaadbda5",
   "metadata": {},
   "outputs": [],
   "source": [
    "import pandas as pd\n",
    "import numpy as np\n",
    "import requests\n",
    "from bs4 import BeautifulSoup"
   ]
  },
  {
   "cell_type": "markdown",
   "id": "d67c33de-d4f7-4edf-bbc6-060f75964c34",
   "metadata": {},
   "source": [
    "# Trying to webscrape youtube data"
   ]
  },
  {
   "cell_type": "code",
   "execution_count": 23,
   "id": "c3a4890e-ba12-43f1-9396-0be85d169781",
   "metadata": {},
   "outputs": [],
   "source": [
    "def extract(url):\n",
    "    headers = {'user-agent': 'Mozilla/5.0 (Macintosh; Intel Mac OS X 10_15_7) AppleWebKit/537.36 (KHTML, like Gecko) Chrome/101.0.4951.54 Safari/537.36'}\n",
    "    r = requests.get(url=url, headers=headers, timeout=3)\n",
    "    soup = BeautifulSoup(r.content, 'html.parser')\n",
    "    return soup\n",
    "\n",
    "def transform(soup):\n",
    "    items = soup.find_all('div', {\"id\": \"contents\"})\n",
    "    return items"
   ]
  },
  {
   "cell_type": "code",
   "execution_count": 13,
   "id": "34d25375-2697-4d41-bd7c-aa6e72560369",
   "metadata": {},
   "outputs": [],
   "source": [
    "soup = extract(url=\"https://www.youtube.com/\")"
   ]
  },
  {
   "cell_type": "code",
   "execution_count": 24,
   "id": "a20afce7-4261-4ccd-87ac-9126046fe4ce",
   "metadata": {},
   "outputs": [
    {
     "data": {
      "text/plain": [
       "[]"
      ]
     },
     "execution_count": 24,
     "metadata": {},
     "output_type": "execute_result"
    }
   ],
   "source": [
    "transform(soup)"
   ]
  },
  {
   "cell_type": "code",
   "execution_count": null,
   "id": "c37f3967-dd8b-4227-af6b-b31da6b23d44",
   "metadata": {},
   "outputs": [],
   "source": []
  }
 ],
 "metadata": {
  "kernelspec": {
   "display_name": "Python 3 (ipykernel)",
   "language": "python",
   "name": "python3"
  },
  "language_info": {
   "codemirror_mode": {
    "name": "ipython",
    "version": 3
   },
   "file_extension": ".py",
   "mimetype": "text/x-python",
   "name": "python",
   "nbconvert_exporter": "python",
   "pygments_lexer": "ipython3",
   "version": "3.9.12"
  }
 },
 "nbformat": 4,
 "nbformat_minor": 5
}
